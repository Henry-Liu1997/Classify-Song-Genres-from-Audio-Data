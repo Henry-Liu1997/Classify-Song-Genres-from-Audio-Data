{
 "cells": [
  {
   "cell_type": "markdown",
   "metadata": {},
   "source": [
    "## Prepare dataset"
   ]
  },
  {
   "cell_type": "code",
   "execution_count": 1,
   "metadata": {},
   "outputs": [],
   "source": [
    "import pandas as pd\n",
    "# import warnings filter\n",
    "from warnings import simplefilter\n",
    "# ignore all future warnings\n",
    "simplefilter(action='ignore', category=FutureWarning)"
   ]
  },
  {
   "cell_type": "code",
   "execution_count": 2,
   "metadata": {},
   "outputs": [
    {
     "name": "stdout",
     "output_type": "stream",
     "text": [
      "<class 'pandas.core.frame.DataFrame'>\n",
      "Int64Index: 4802 entries, 0 to 4801\n",
      "Data columns (total 10 columns):\n",
      "track_id            4802 non-null int64\n",
      "acousticness        4802 non-null float64\n",
      "danceability        4802 non-null float64\n",
      "energy              4802 non-null float64\n",
      "instrumentalness    4802 non-null float64\n",
      "liveness            4802 non-null float64\n",
      "speechiness         4802 non-null float64\n",
      "tempo               4802 non-null float64\n",
      "valence             4802 non-null float64\n",
      "genre_top           4802 non-null object\n",
      "dtypes: float64(8), int64(1), object(1)\n",
      "memory usage: 412.7+ KB\n"
     ]
    }
   ],
   "source": [
    "# Read in track metadata with genre labels\n",
    "tracks = tracks = pd.read_csv('/CSV/Project/Classify_Song_Genres/fma-rock-vs-hiphop.csv')\n",
    "\n",
    "# Read in track metrics with the features\n",
    "echonest_metrics = pd.read_json('/CSV/Project/Classify_Song_Genres/echonest-metrics.json',precise_float = True)\n",
    "\n",
    "# Merge the relevant columns of tracks and echonest_metrics\n",
    "echo_tracks = pd.merge(echonest_metrics,tracks[['track_id','genre_top']],on='track_id')\n",
    "\n",
    "echo_tracks.info()"
   ]
  },
  {
   "cell_type": "code",
   "execution_count": 3,
   "metadata": {},
   "outputs": [
    {
     "name": "stdout",
     "output_type": "stream",
     "text": [
      "   track_id  acousticness  danceability    energy  instrumentalness  liveness  \\\n",
      "0         2      0.416675      0.675894  0.634476          0.010628  0.177647   \n",
      "1         3      0.374408      0.528643  0.817461          0.001851  0.105880   \n",
      "2       341      0.977282      0.468808  0.134975          0.687700  0.105381   \n",
      "3     46204      0.953349      0.498525  0.552503          0.924391  0.684914   \n",
      "4     46205      0.613229      0.500320  0.487992          0.936811  0.637750   \n",
      "\n",
      "   speechiness    tempo   valence genre_top  \n",
      "0     0.159310  165.922  0.576661   Hip-Hop  \n",
      "1     0.461818  126.957  0.269240   Hip-Hop  \n",
      "2     0.073124  119.646  0.430707      Rock  \n",
      "3     0.028885   78.958  0.430448      Rock  \n",
      "4     0.030327  112.667  0.824749      Rock  \n"
     ]
    }
   ],
   "source": [
    "print(echo_tracks.head())"
   ]
  },
  {
   "cell_type": "code",
   "execution_count": 4,
   "metadata": {},
   "outputs": [
    {
     "data": {
      "text/html": [
       "<style  type=\"text/css\" >\n",
       "    #T_d4a96a08_4ba7_11ea_9c1c_2cfda13fb7c8row0_col0 {\n",
       "            background-color:  #023858;\n",
       "        }    #T_d4a96a08_4ba7_11ea_9c1c_2cfda13fb7c8row0_col1 {\n",
       "            background-color:  #fff7fb;\n",
       "        }    #T_d4a96a08_4ba7_11ea_9c1c_2cfda13fb7c8row0_col2 {\n",
       "            background-color:  #d2d2e7;\n",
       "        }    #T_d4a96a08_4ba7_11ea_9c1c_2cfda13fb7c8row0_col3 {\n",
       "            background-color:  #b5c4df;\n",
       "        }    #T_d4a96a08_4ba7_11ea_9c1c_2cfda13fb7c8row0_col4 {\n",
       "            background-color:  #f5eef6;\n",
       "        }    #T_d4a96a08_4ba7_11ea_9c1c_2cfda13fb7c8row0_col5 {\n",
       "            background-color:  #e9e5f1;\n",
       "        }    #T_d4a96a08_4ba7_11ea_9c1c_2cfda13fb7c8row0_col6 {\n",
       "            background-color:  #d1d2e6;\n",
       "        }    #T_d4a96a08_4ba7_11ea_9c1c_2cfda13fb7c8row0_col7 {\n",
       "            background-color:  #e1dfed;\n",
       "        }    #T_d4a96a08_4ba7_11ea_9c1c_2cfda13fb7c8row0_col8 {\n",
       "            background-color:  #dedcec;\n",
       "        }    #T_d4a96a08_4ba7_11ea_9c1c_2cfda13fb7c8row1_col0 {\n",
       "            background-color:  #fff7fb;\n",
       "        }    #T_d4a96a08_4ba7_11ea_9c1c_2cfda13fb7c8row1_col1 {\n",
       "            background-color:  #023858;\n",
       "        }    #T_d4a96a08_4ba7_11ea_9c1c_2cfda13fb7c8row1_col2 {\n",
       "            background-color:  #e0dded;\n",
       "        }    #T_d4a96a08_4ba7_11ea_9c1c_2cfda13fb7c8row1_col3 {\n",
       "            background-color:  #fff7fb;\n",
       "        }    #T_d4a96a08_4ba7_11ea_9c1c_2cfda13fb7c8row1_col4 {\n",
       "            background-color:  #97b7d7;\n",
       "        }    #T_d4a96a08_4ba7_11ea_9c1c_2cfda13fb7c8row1_col5 {\n",
       "            background-color:  #f3edf5;\n",
       "        }    #T_d4a96a08_4ba7_11ea_9c1c_2cfda13fb7c8row1_col6 {\n",
       "            background-color:  #b8c6e0;\n",
       "        }    #T_d4a96a08_4ba7_11ea_9c1c_2cfda13fb7c8row1_col7 {\n",
       "            background-color:  #e1dfed;\n",
       "        }    #T_d4a96a08_4ba7_11ea_9c1c_2cfda13fb7c8row1_col8 {\n",
       "            background-color:  #e2dfee;\n",
       "        }    #T_d4a96a08_4ba7_11ea_9c1c_2cfda13fb7c8row2_col0 {\n",
       "            background-color:  #bdc8e1;\n",
       "        }    #T_d4a96a08_4ba7_11ea_9c1c_2cfda13fb7c8row2_col1 {\n",
       "            background-color:  #d0d1e6;\n",
       "        }    #T_d4a96a08_4ba7_11ea_9c1c_2cfda13fb7c8row2_col2 {\n",
       "            background-color:  #023858;\n",
       "        }    #T_d4a96a08_4ba7_11ea_9c1c_2cfda13fb7c8row2_col3 {\n",
       "            background-color:  #fbf3f9;\n",
       "        }    #T_d4a96a08_4ba7_11ea_9c1c_2cfda13fb7c8row2_col4 {\n",
       "            background-color:  #f3edf5;\n",
       "        }    #T_d4a96a08_4ba7_11ea_9c1c_2cfda13fb7c8row2_col5 {\n",
       "            background-color:  #fff7fb;\n",
       "        }    #T_d4a96a08_4ba7_11ea_9c1c_2cfda13fb7c8row2_col6 {\n",
       "            background-color:  #80aed2;\n",
       "        }    #T_d4a96a08_4ba7_11ea_9c1c_2cfda13fb7c8row2_col7 {\n",
       "            background-color:  #fff7fb;\n",
       "        }    #T_d4a96a08_4ba7_11ea_9c1c_2cfda13fb7c8row2_col8 {\n",
       "            background-color:  #529bc7;\n",
       "        }    #T_d4a96a08_4ba7_11ea_9c1c_2cfda13fb7c8row3_col0 {\n",
       "            background-color:  #a7bddb;\n",
       "        }    #T_d4a96a08_4ba7_11ea_9c1c_2cfda13fb7c8row3_col1 {\n",
       "            background-color:  #f5eff6;\n",
       "        }    #T_d4a96a08_4ba7_11ea_9c1c_2cfda13fb7c8row3_col2 {\n",
       "            background-color:  #fef6fa;\n",
       "        }    #T_d4a96a08_4ba7_11ea_9c1c_2cfda13fb7c8row3_col3 {\n",
       "            background-color:  #023858;\n",
       "        }    #T_d4a96a08_4ba7_11ea_9c1c_2cfda13fb7c8row3_col4 {\n",
       "            background-color:  #c4cbe3;\n",
       "        }    #T_d4a96a08_4ba7_11ea_9c1c_2cfda13fb7c8row3_col5 {\n",
       "            background-color:  #dcdaeb;\n",
       "        }    #T_d4a96a08_4ba7_11ea_9c1c_2cfda13fb7c8row3_col6 {\n",
       "            background-color:  #dedcec;\n",
       "        }    #T_d4a96a08_4ba7_11ea_9c1c_2cfda13fb7c8row3_col7 {\n",
       "            background-color:  #adc1dd;\n",
       "        }    #T_d4a96a08_4ba7_11ea_9c1c_2cfda13fb7c8row3_col8 {\n",
       "            background-color:  #d9d8ea;\n",
       "        }    #T_d4a96a08_4ba7_11ea_9c1c_2cfda13fb7c8row4_col0 {\n",
       "            background-color:  #f4eef6;\n",
       "        }    #T_d4a96a08_4ba7_11ea_9c1c_2cfda13fb7c8row4_col1 {\n",
       "            background-color:  #97b7d7;\n",
       "        }    #T_d4a96a08_4ba7_11ea_9c1c_2cfda13fb7c8row4_col2 {\n",
       "            background-color:  #fff7fb;\n",
       "        }    #T_d4a96a08_4ba7_11ea_9c1c_2cfda13fb7c8row4_col3 {\n",
       "            background-color:  #d2d3e7;\n",
       "        }    #T_d4a96a08_4ba7_11ea_9c1c_2cfda13fb7c8row4_col4 {\n",
       "            background-color:  #023858;\n",
       "        }    #T_d4a96a08_4ba7_11ea_9c1c_2cfda13fb7c8row4_col5 {\n",
       "            background-color:  #fdf5fa;\n",
       "        }    #T_d4a96a08_4ba7_11ea_9c1c_2cfda13fb7c8row4_col6 {\n",
       "            background-color:  #fff7fb;\n",
       "        }    #T_d4a96a08_4ba7_11ea_9c1c_2cfda13fb7c8row4_col7 {\n",
       "            background-color:  #d9d8ea;\n",
       "        }    #T_d4a96a08_4ba7_11ea_9c1c_2cfda13fb7c8row4_col8 {\n",
       "            background-color:  #fff7fb;\n",
       "        }    #T_d4a96a08_4ba7_11ea_9c1c_2cfda13fb7c8row5_col0 {\n",
       "            background-color:  #bdc8e1;\n",
       "        }    #T_d4a96a08_4ba7_11ea_9c1c_2cfda13fb7c8row5_col1 {\n",
       "            background-color:  #ced0e6;\n",
       "        }    #T_d4a96a08_4ba7_11ea_9c1c_2cfda13fb7c8row5_col2 {\n",
       "            background-color:  #ede8f3;\n",
       "        }    #T_d4a96a08_4ba7_11ea_9c1c_2cfda13fb7c8row5_col3 {\n",
       "            background-color:  #bdc8e1;\n",
       "        }    #T_d4a96a08_4ba7_11ea_9c1c_2cfda13fb7c8row5_col4 {\n",
       "            background-color:  #dbdaeb;\n",
       "        }    #T_d4a96a08_4ba7_11ea_9c1c_2cfda13fb7c8row5_col5 {\n",
       "            background-color:  #023858;\n",
       "        }    #T_d4a96a08_4ba7_11ea_9c1c_2cfda13fb7c8row5_col6 {\n",
       "            background-color:  #c0c9e2;\n",
       "        }    #T_d4a96a08_4ba7_11ea_9c1c_2cfda13fb7c8row5_col7 {\n",
       "            background-color:  #dcdaeb;\n",
       "        }    #T_d4a96a08_4ba7_11ea_9c1c_2cfda13fb7c8row5_col8 {\n",
       "            background-color:  #e8e4f0;\n",
       "        }    #T_d4a96a08_4ba7_11ea_9c1c_2cfda13fb7c8row6_col0 {\n",
       "            background-color:  #d0d1e6;\n",
       "        }    #T_d4a96a08_4ba7_11ea_9c1c_2cfda13fb7c8row6_col1 {\n",
       "            background-color:  #b8c6e0;\n",
       "        }    #T_d4a96a08_4ba7_11ea_9c1c_2cfda13fb7c8row6_col2 {\n",
       "            background-color:  #93b5d6;\n",
       "        }    #T_d4a96a08_4ba7_11ea_9c1c_2cfda13fb7c8row6_col3 {\n",
       "            background-color:  #eae6f1;\n",
       "        }    #T_d4a96a08_4ba7_11ea_9c1c_2cfda13fb7c8row6_col4 {\n",
       "            background-color:  #fff7fb;\n",
       "        }    #T_d4a96a08_4ba7_11ea_9c1c_2cfda13fb7c8row6_col5 {\n",
       "            background-color:  #eae6f1;\n",
       "        }    #T_d4a96a08_4ba7_11ea_9c1c_2cfda13fb7c8row6_col6 {\n",
       "            background-color:  #023858;\n",
       "        }    #T_d4a96a08_4ba7_11ea_9c1c_2cfda13fb7c8row6_col7 {\n",
       "            background-color:  #dbdaeb;\n",
       "        }    #T_d4a96a08_4ba7_11ea_9c1c_2cfda13fb7c8row6_col8 {\n",
       "            background-color:  #bfc9e1;\n",
       "        }    #T_d4a96a08_4ba7_11ea_9c1c_2cfda13fb7c8row7_col0 {\n",
       "            background-color:  #d0d1e6;\n",
       "        }    #T_d4a96a08_4ba7_11ea_9c1c_2cfda13fb7c8row7_col1 {\n",
       "            background-color:  #d0d1e6;\n",
       "        }    #T_d4a96a08_4ba7_11ea_9c1c_2cfda13fb7c8row7_col2 {\n",
       "            background-color:  #fef6fa;\n",
       "        }    #T_d4a96a08_4ba7_11ea_9c1c_2cfda13fb7c8row7_col3 {\n",
       "            background-color:  #a7bddb;\n",
       "        }    #T_d4a96a08_4ba7_11ea_9c1c_2cfda13fb7c8row7_col4 {\n",
       "            background-color:  #c5cce3;\n",
       "        }    #T_d4a96a08_4ba7_11ea_9c1c_2cfda13fb7c8row7_col5 {\n",
       "            background-color:  #f0eaf4;\n",
       "        }    #T_d4a96a08_4ba7_11ea_9c1c_2cfda13fb7c8row7_col6 {\n",
       "            background-color:  #c8cde4;\n",
       "        }    #T_d4a96a08_4ba7_11ea_9c1c_2cfda13fb7c8row7_col7 {\n",
       "            background-color:  #023858;\n",
       "        }    #T_d4a96a08_4ba7_11ea_9c1c_2cfda13fb7c8row7_col8 {\n",
       "            background-color:  #d6d6e9;\n",
       "        }    #T_d4a96a08_4ba7_11ea_9c1c_2cfda13fb7c8row8_col0 {\n",
       "            background-color:  #c6cce3;\n",
       "        }    #T_d4a96a08_4ba7_11ea_9c1c_2cfda13fb7c8row8_col1 {\n",
       "            background-color:  #cdd0e5;\n",
       "        }    #T_d4a96a08_4ba7_11ea_9c1c_2cfda13fb7c8row8_col2 {\n",
       "            background-color:  #4c99c5;\n",
       "        }    #T_d4a96a08_4ba7_11ea_9c1c_2cfda13fb7c8row8_col3 {\n",
       "            background-color:  #d1d2e6;\n",
       "        }    #T_d4a96a08_4ba7_11ea_9c1c_2cfda13fb7c8row8_col4 {\n",
       "            background-color:  #efe9f3;\n",
       "        }    #T_d4a96a08_4ba7_11ea_9c1c_2cfda13fb7c8row8_col5 {\n",
       "            background-color:  #f7f0f7;\n",
       "        }    #T_d4a96a08_4ba7_11ea_9c1c_2cfda13fb7c8row8_col6 {\n",
       "            background-color:  #a5bddb;\n",
       "        }    #T_d4a96a08_4ba7_11ea_9c1c_2cfda13fb7c8row8_col7 {\n",
       "            background-color:  #d3d4e7;\n",
       "        }    #T_d4a96a08_4ba7_11ea_9c1c_2cfda13fb7c8row8_col8 {\n",
       "            background-color:  #023858;\n",
       "        }</style>  \n",
       "<table id=\"T_d4a96a08_4ba7_11ea_9c1c_2cfda13fb7c8\" > \n",
       "<thead>    <tr> \n",
       "        <th class=\"blank level0\" ></th> \n",
       "        <th class=\"col_heading level0 col0\" >track_id</th> \n",
       "        <th class=\"col_heading level0 col1\" >acousticness</th> \n",
       "        <th class=\"col_heading level0 col2\" >danceability</th> \n",
       "        <th class=\"col_heading level0 col3\" >energy</th> \n",
       "        <th class=\"col_heading level0 col4\" >instrumentalness</th> \n",
       "        <th class=\"col_heading level0 col5\" >liveness</th> \n",
       "        <th class=\"col_heading level0 col6\" >speechiness</th> \n",
       "        <th class=\"col_heading level0 col7\" >tempo</th> \n",
       "        <th class=\"col_heading level0 col8\" >valence</th> \n",
       "    </tr></thead> \n",
       "<tbody>    <tr> \n",
       "        <th id=\"T_d4a96a08_4ba7_11ea_9c1c_2cfda13fb7c8level0_row0\" class=\"row_heading level0 row0\" >track_id</th> \n",
       "        <td id=\"T_d4a96a08_4ba7_11ea_9c1c_2cfda13fb7c8row0_col0\" class=\"data row0 col0\" >1</td> \n",
       "        <td id=\"T_d4a96a08_4ba7_11ea_9c1c_2cfda13fb7c8row0_col1\" class=\"data row0 col1\" >-0.372282</td> \n",
       "        <td id=\"T_d4a96a08_4ba7_11ea_9c1c_2cfda13fb7c8row0_col2\" class=\"data row0 col2\" >0.0494541</td> \n",
       "        <td id=\"T_d4a96a08_4ba7_11ea_9c1c_2cfda13fb7c8row0_col3\" class=\"data row0 col3\" >0.140703</td> \n",
       "        <td id=\"T_d4a96a08_4ba7_11ea_9c1c_2cfda13fb7c8row0_col4\" class=\"data row0 col4\" >-0.275623</td> \n",
       "        <td id=\"T_d4a96a08_4ba7_11ea_9c1c_2cfda13fb7c8row0_col5\" class=\"data row0 col5\" >0.0482307</td> \n",
       "        <td id=\"T_d4a96a08_4ba7_11ea_9c1c_2cfda13fb7c8row0_col6\" class=\"data row0 col6\" >-0.0269951</td> \n",
       "        <td id=\"T_d4a96a08_4ba7_11ea_9c1c_2cfda13fb7c8row0_col7\" class=\"data row0 col7\" >-0.0253918</td> \n",
       "        <td id=\"T_d4a96a08_4ba7_11ea_9c1c_2cfda13fb7c8row0_col8\" class=\"data row0 col8\" >0.0100698</td> \n",
       "    </tr>    <tr> \n",
       "        <th id=\"T_d4a96a08_4ba7_11ea_9c1c_2cfda13fb7c8level0_row1\" class=\"row_heading level0 row1\" >acousticness</th> \n",
       "        <td id=\"T_d4a96a08_4ba7_11ea_9c1c_2cfda13fb7c8row1_col0\" class=\"data row1 col0\" >-0.372282</td> \n",
       "        <td id=\"T_d4a96a08_4ba7_11ea_9c1c_2cfda13fb7c8row1_col1\" class=\"data row1 col1\" >1</td> \n",
       "        <td id=\"T_d4a96a08_4ba7_11ea_9c1c_2cfda13fb7c8row1_col2\" class=\"data row1 col2\" >-0.0289537</td> \n",
       "        <td id=\"T_d4a96a08_4ba7_11ea_9c1c_2cfda13fb7c8row1_col3\" class=\"data row1 col3\" >-0.281619</td> \n",
       "        <td id=\"T_d4a96a08_4ba7_11ea_9c1c_2cfda13fb7c8row1_col4\" class=\"data row1 col4\" >0.19478</td> \n",
       "        <td id=\"T_d4a96a08_4ba7_11ea_9c1c_2cfda13fb7c8row1_col5\" class=\"data row1 col5\" >-0.0199914</td> \n",
       "        <td id=\"T_d4a96a08_4ba7_11ea_9c1c_2cfda13fb7c8row1_col6\" class=\"data row1 col6\" >0.072204</td> \n",
       "        <td id=\"T_d4a96a08_4ba7_11ea_9c1c_2cfda13fb7c8row1_col7\" class=\"data row1 col7\" >-0.0263097</td> \n",
       "        <td id=\"T_d4a96a08_4ba7_11ea_9c1c_2cfda13fb7c8row1_col8\" class=\"data row1 col8\" >-0.0138406</td> \n",
       "    </tr>    <tr> \n",
       "        <th id=\"T_d4a96a08_4ba7_11ea_9c1c_2cfda13fb7c8level0_row2\" class=\"row_heading level0 row2\" >danceability</th> \n",
       "        <td id=\"T_d4a96a08_4ba7_11ea_9c1c_2cfda13fb7c8row2_col0\" class=\"data row2 col0\" >0.0494541</td> \n",
       "        <td id=\"T_d4a96a08_4ba7_11ea_9c1c_2cfda13fb7c8row2_col1\" class=\"data row2 col1\" >-0.0289537</td> \n",
       "        <td id=\"T_d4a96a08_4ba7_11ea_9c1c_2cfda13fb7c8row2_col2\" class=\"data row2 col2\" >1</td> \n",
       "        <td id=\"T_d4a96a08_4ba7_11ea_9c1c_2cfda13fb7c8row2_col3\" class=\"data row2 col3\" >-0.242032</td> \n",
       "        <td id=\"T_d4a96a08_4ba7_11ea_9c1c_2cfda13fb7c8row2_col4\" class=\"data row2 col4\" >-0.255217</td> \n",
       "        <td id=\"T_d4a96a08_4ba7_11ea_9c1c_2cfda13fb7c8row2_col5\" class=\"data row2 col5\" >-0.106584</td> \n",
       "        <td id=\"T_d4a96a08_4ba7_11ea_9c1c_2cfda13fb7c8row2_col6\" class=\"data row2 col6\" >0.276206</td> \n",
       "        <td id=\"T_d4a96a08_4ba7_11ea_9c1c_2cfda13fb7c8row2_col7\" class=\"data row2 col7\" >-0.242089</td> \n",
       "        <td id=\"T_d4a96a08_4ba7_11ea_9c1c_2cfda13fb7c8row2_col8\" class=\"data row2 col8\" >0.473165</td> \n",
       "    </tr>    <tr> \n",
       "        <th id=\"T_d4a96a08_4ba7_11ea_9c1c_2cfda13fb7c8level0_row3\" class=\"row_heading level0 row3\" >energy</th> \n",
       "        <td id=\"T_d4a96a08_4ba7_11ea_9c1c_2cfda13fb7c8row3_col0\" class=\"data row3 col0\" >0.140703</td> \n",
       "        <td id=\"T_d4a96a08_4ba7_11ea_9c1c_2cfda13fb7c8row3_col1\" class=\"data row3 col1\" >-0.281619</td> \n",
       "        <td id=\"T_d4a96a08_4ba7_11ea_9c1c_2cfda13fb7c8row3_col2\" class=\"data row3 col2\" >-0.242032</td> \n",
       "        <td id=\"T_d4a96a08_4ba7_11ea_9c1c_2cfda13fb7c8row3_col3\" class=\"data row3 col3\" >1</td> \n",
       "        <td id=\"T_d4a96a08_4ba7_11ea_9c1c_2cfda13fb7c8row3_col4\" class=\"data row3 col4\" >0.0282377</td> \n",
       "        <td id=\"T_d4a96a08_4ba7_11ea_9c1c_2cfda13fb7c8row3_col5\" class=\"data row3 col5\" >0.113331</td> \n",
       "        <td id=\"T_d4a96a08_4ba7_11ea_9c1c_2cfda13fb7c8row3_col6\" class=\"data row3 col6\" >-0.109983</td> \n",
       "        <td id=\"T_d4a96a08_4ba7_11ea_9c1c_2cfda13fb7c8row3_col7\" class=\"data row3 col7\" >0.195227</td> \n",
       "        <td id=\"T_d4a96a08_4ba7_11ea_9c1c_2cfda13fb7c8row3_col8\" class=\"data row3 col8\" >0.0386027</td> \n",
       "    </tr>    <tr> \n",
       "        <th id=\"T_d4a96a08_4ba7_11ea_9c1c_2cfda13fb7c8level0_row4\" class=\"row_heading level0 row4\" >instrumentalness</th> \n",
       "        <td id=\"T_d4a96a08_4ba7_11ea_9c1c_2cfda13fb7c8row4_col0\" class=\"data row4 col0\" >-0.275623</td> \n",
       "        <td id=\"T_d4a96a08_4ba7_11ea_9c1c_2cfda13fb7c8row4_col1\" class=\"data row4 col1\" >0.19478</td> \n",
       "        <td id=\"T_d4a96a08_4ba7_11ea_9c1c_2cfda13fb7c8row4_col2\" class=\"data row4 col2\" >-0.255217</td> \n",
       "        <td id=\"T_d4a96a08_4ba7_11ea_9c1c_2cfda13fb7c8row4_col3\" class=\"data row4 col3\" >0.0282377</td> \n",
       "        <td id=\"T_d4a96a08_4ba7_11ea_9c1c_2cfda13fb7c8row4_col4\" class=\"data row4 col4\" >1</td> \n",
       "        <td id=\"T_d4a96a08_4ba7_11ea_9c1c_2cfda13fb7c8row4_col5\" class=\"data row4 col5\" >-0.0910218</td> \n",
       "        <td id=\"T_d4a96a08_4ba7_11ea_9c1c_2cfda13fb7c8row4_col6\" class=\"data row4 col6\" >-0.366762</td> \n",
       "        <td id=\"T_d4a96a08_4ba7_11ea_9c1c_2cfda13fb7c8row4_col7\" class=\"data row4 col7\" >0.022215</td> \n",
       "        <td id=\"T_d4a96a08_4ba7_11ea_9c1c_2cfda13fb7c8row4_col8\" class=\"data row4 col8\" >-0.219967</td> \n",
       "    </tr>    <tr> \n",
       "        <th id=\"T_d4a96a08_4ba7_11ea_9c1c_2cfda13fb7c8level0_row5\" class=\"row_heading level0 row5\" >liveness</th> \n",
       "        <td id=\"T_d4a96a08_4ba7_11ea_9c1c_2cfda13fb7c8row5_col0\" class=\"data row5 col0\" >0.0482307</td> \n",
       "        <td id=\"T_d4a96a08_4ba7_11ea_9c1c_2cfda13fb7c8row5_col1\" class=\"data row5 col1\" >-0.0199914</td> \n",
       "        <td id=\"T_d4a96a08_4ba7_11ea_9c1c_2cfda13fb7c8row5_col2\" class=\"data row5 col2\" >-0.106584</td> \n",
       "        <td id=\"T_d4a96a08_4ba7_11ea_9c1c_2cfda13fb7c8row5_col3\" class=\"data row5 col3\" >0.113331</td> \n",
       "        <td id=\"T_d4a96a08_4ba7_11ea_9c1c_2cfda13fb7c8row5_col4\" class=\"data row5 col4\" >-0.0910218</td> \n",
       "        <td id=\"T_d4a96a08_4ba7_11ea_9c1c_2cfda13fb7c8row5_col5\" class=\"data row5 col5\" >1</td> \n",
       "        <td id=\"T_d4a96a08_4ba7_11ea_9c1c_2cfda13fb7c8row5_col6\" class=\"data row5 col6\" >0.0411725</td> \n",
       "        <td id=\"T_d4a96a08_4ba7_11ea_9c1c_2cfda13fb7c8row5_col7\" class=\"data row5 col7\" >0.00273169</td> \n",
       "        <td id=\"T_d4a96a08_4ba7_11ea_9c1c_2cfda13fb7c8row5_col8\" class=\"data row5 col8\" >-0.0450931</td> \n",
       "    </tr>    <tr> \n",
       "        <th id=\"T_d4a96a08_4ba7_11ea_9c1c_2cfda13fb7c8level0_row6\" class=\"row_heading level0 row6\" >speechiness</th> \n",
       "        <td id=\"T_d4a96a08_4ba7_11ea_9c1c_2cfda13fb7c8row6_col0\" class=\"data row6 col0\" >-0.0269951</td> \n",
       "        <td id=\"T_d4a96a08_4ba7_11ea_9c1c_2cfda13fb7c8row6_col1\" class=\"data row6 col1\" >0.072204</td> \n",
       "        <td id=\"T_d4a96a08_4ba7_11ea_9c1c_2cfda13fb7c8row6_col2\" class=\"data row6 col2\" >0.276206</td> \n",
       "        <td id=\"T_d4a96a08_4ba7_11ea_9c1c_2cfda13fb7c8row6_col3\" class=\"data row6 col3\" >-0.109983</td> \n",
       "        <td id=\"T_d4a96a08_4ba7_11ea_9c1c_2cfda13fb7c8row6_col4\" class=\"data row6 col4\" >-0.366762</td> \n",
       "        <td id=\"T_d4a96a08_4ba7_11ea_9c1c_2cfda13fb7c8row6_col5\" class=\"data row6 col5\" >0.0411725</td> \n",
       "        <td id=\"T_d4a96a08_4ba7_11ea_9c1c_2cfda13fb7c8row6_col6\" class=\"data row6 col6\" >1</td> \n",
       "        <td id=\"T_d4a96a08_4ba7_11ea_9c1c_2cfda13fb7c8row6_col7\" class=\"data row6 col7\" >0.00824055</td> \n",
       "        <td id=\"T_d4a96a08_4ba7_11ea_9c1c_2cfda13fb7c8row6_col8\" class=\"data row6 col8\" >0.149894</td> \n",
       "    </tr>    <tr> \n",
       "        <th id=\"T_d4a96a08_4ba7_11ea_9c1c_2cfda13fb7c8level0_row7\" class=\"row_heading level0 row7\" >tempo</th> \n",
       "        <td id=\"T_d4a96a08_4ba7_11ea_9c1c_2cfda13fb7c8row7_col0\" class=\"data row7 col0\" >-0.0253918</td> \n",
       "        <td id=\"T_d4a96a08_4ba7_11ea_9c1c_2cfda13fb7c8row7_col1\" class=\"data row7 col1\" >-0.0263097</td> \n",
       "        <td id=\"T_d4a96a08_4ba7_11ea_9c1c_2cfda13fb7c8row7_col2\" class=\"data row7 col2\" >-0.242089</td> \n",
       "        <td id=\"T_d4a96a08_4ba7_11ea_9c1c_2cfda13fb7c8row7_col3\" class=\"data row7 col3\" >0.195227</td> \n",
       "        <td id=\"T_d4a96a08_4ba7_11ea_9c1c_2cfda13fb7c8row7_col4\" class=\"data row7 col4\" >0.022215</td> \n",
       "        <td id=\"T_d4a96a08_4ba7_11ea_9c1c_2cfda13fb7c8row7_col5\" class=\"data row7 col5\" >0.00273169</td> \n",
       "        <td id=\"T_d4a96a08_4ba7_11ea_9c1c_2cfda13fb7c8row7_col6\" class=\"data row7 col6\" >0.00824055</td> \n",
       "        <td id=\"T_d4a96a08_4ba7_11ea_9c1c_2cfda13fb7c8row7_col7\" class=\"data row7 col7\" >1</td> \n",
       "        <td id=\"T_d4a96a08_4ba7_11ea_9c1c_2cfda13fb7c8row7_col8\" class=\"data row7 col8\" >0.0522212</td> \n",
       "    </tr>    <tr> \n",
       "        <th id=\"T_d4a96a08_4ba7_11ea_9c1c_2cfda13fb7c8level0_row8\" class=\"row_heading level0 row8\" >valence</th> \n",
       "        <td id=\"T_d4a96a08_4ba7_11ea_9c1c_2cfda13fb7c8row8_col0\" class=\"data row8 col0\" >0.0100698</td> \n",
       "        <td id=\"T_d4a96a08_4ba7_11ea_9c1c_2cfda13fb7c8row8_col1\" class=\"data row8 col1\" >-0.0138406</td> \n",
       "        <td id=\"T_d4a96a08_4ba7_11ea_9c1c_2cfda13fb7c8row8_col2\" class=\"data row8 col2\" >0.473165</td> \n",
       "        <td id=\"T_d4a96a08_4ba7_11ea_9c1c_2cfda13fb7c8row8_col3\" class=\"data row8 col3\" >0.0386027</td> \n",
       "        <td id=\"T_d4a96a08_4ba7_11ea_9c1c_2cfda13fb7c8row8_col4\" class=\"data row8 col4\" >-0.219967</td> \n",
       "        <td id=\"T_d4a96a08_4ba7_11ea_9c1c_2cfda13fb7c8row8_col5\" class=\"data row8 col5\" >-0.0450931</td> \n",
       "        <td id=\"T_d4a96a08_4ba7_11ea_9c1c_2cfda13fb7c8row8_col6\" class=\"data row8 col6\" >0.149894</td> \n",
       "        <td id=\"T_d4a96a08_4ba7_11ea_9c1c_2cfda13fb7c8row8_col7\" class=\"data row8 col7\" >0.0522212</td> \n",
       "        <td id=\"T_d4a96a08_4ba7_11ea_9c1c_2cfda13fb7c8row8_col8\" class=\"data row8 col8\" >1</td> \n",
       "    </tr></tbody> \n",
       "</table> "
      ],
      "text/plain": [
       "<pandas.io.formats.style.Styler at 0x1a07ee8e7f0>"
      ]
     },
     "execution_count": 4,
     "metadata": {},
     "output_type": "execute_result"
    }
   ],
   "source": [
    "# Create a correlation matrix\n",
    "corr_metrics = echo_tracks.corr()\n",
    "corr_metrics.style.background_gradient()"
   ]
  },
  {
   "cell_type": "markdown",
   "metadata": {},
   "source": [
    "## Normalizing the feature data"
   ]
  },
  {
   "cell_type": "code",
   "execution_count": 5,
   "metadata": {},
   "outputs": [],
   "source": [
    "from sklearn.preprocessing import StandardScaler\n",
    "scaler = StandardScaler()\n",
    "features = echo_tracks.drop(['genre_top','track_id'],axis=1)\n",
    "labels = echo_tracks['genre_top']\n",
    "\n",
    "#Scale the features and set the values to a new variable\n",
    "scaled_features = scaler.fit_transform(features)"
   ]
  },
  {
   "cell_type": "markdown",
   "metadata": {},
   "source": [
    "## Principal Componet Analysis on the scaled data"
   ]
  },
  {
   "cell_type": "code",
   "execution_count": 6,
   "metadata": {},
   "outputs": [
    {
     "data": {
      "text/plain": [
       "PCA(copy=True, iterated_power='auto', n_components=None, random_state=None,\n",
       "  svd_solver='auto', tol=0.0, whiten=False)"
      ]
     },
     "execution_count": 6,
     "metadata": {},
     "output_type": "execute_result"
    }
   ],
   "source": [
    "from sklearn.decomposition import PCA\n",
    "pca = PCA()\n",
    "pca.fit(scaled_features)"
   ]
  },
  {
   "cell_type": "code",
   "execution_count": 7,
   "metadata": {
    "scrolled": true
   },
   "outputs": [
    {
     "data": {
      "text/plain": [
       "<BarContainer object of 8 artists>"
      ]
     },
     "execution_count": 7,
     "metadata": {},
     "output_type": "execute_result"
    },
    {
     "data": {
      "image/png": "[encoded data removed]",
      "text/plain": [
       "<Figure size 432x288 with 1 Axes>"
      ]
     },
     "metadata": {
      "needs_background": "light"
     },
     "output_type": "display_data"
    }
   ],
   "source": [
    "import matplotlib.pyplot as plt\n",
    "\n",
    "# plot the explained variance using a barplot\n",
    "\n",
    "plt.bar(range(pca.n_components_),pca.explained_variance_ratio_)"
   ]
  },
  {
   "cell_type": "markdown",
   "metadata": {},
   "source": [
    "## Further visualization of PCA "
   ]
  },
  {
   "cell_type": "code",
   "execution_count": 8,
   "metadata": {},
   "outputs": [
    {
     "data": {
      "image/png": "[encoded data removed]",
      "text/plain": [
       "<Figure size 432x288 with 1 Axes>"
      ]
     },
     "metadata": {
      "needs_background": "light"
     },
     "output_type": "display_data"
    }
   ],
   "source": [
    "import numpy as np\n",
    "\n",
    "plt.plot(range(pca.n_components_),np.cumsum(pca.explained_variance_ratio_))\n",
    "\n",
    "plt.plot([0,7],[0.9,0.9],color='red',linestyle='-.')\n",
    "\n",
    "# 90% variance explained by 6 features\n",
    "n_components = 6"
   ]
  },
  {
   "cell_type": "markdown",
   "metadata": {},
   "source": [
    "# Train a decision tree"
   ]
  },
  {
   "cell_type": "code",
   "execution_count": 13,
   "metadata": {},
   "outputs": [
    {
     "name": "stdout",
     "output_type": "stream",
     "text": [
      "              precision    recall  f1-score   support\n",
      "\n",
      "     Hip-Hop       0.66      0.67      0.66       229\n",
      "        Rock       0.92      0.92      0.92       972\n",
      "\n",
      "   micro avg       0.87      0.87      0.87      1201\n",
      "   macro avg       0.79      0.79      0.79      1201\n",
      "weighted avg       0.87      0.87      0.87      1201\n",
      "\n"
     ]
    }
   ],
   "source": [
    "from sklearn.tree import DecisionTreeClassifier\n",
    "from sklearn.model_selection import train_test_split\n",
    "from sklearn.metrics import classification_report\n",
    "tree = DecisionTreeClassifier()\n",
    "\n",
    "pca = PCA(n_components=6)\n",
    "\n",
    "preject_features = pca.fit_transform(scaled_features)\n",
    "\n",
    "# Split train and test data\n",
    "X_train,X_test,y_train,y_test = train_test_split(preject_features,labels,random_state=10)\n",
    "\n",
    "# Fit the model\n",
    "tree.fit(X_train,y_train)\n",
    "tree_y_predict = tree.predict(X_test)\n",
    "\n",
    "# Evaluate the performance\n",
    "print(classification_report(y_test,tree_y_predict))"
   ]
  },
  {
   "cell_type": "markdown",
   "metadata": {},
   "source": [
    "## Design a logistic regression model"
   ]
  },
  {
   "cell_type": "code",
   "execution_count": 15,
   "metadata": {},
   "outputs": [
    {
     "name": "stdout",
     "output_type": "stream",
     "text": [
      "              precision    recall  f1-score   support\n",
      "\n",
      "     Hip-Hop       0.75      0.57      0.65       229\n",
      "        Rock       0.90      0.95      0.93       972\n",
      "\n",
      "   micro avg       0.88      0.88      0.88      1201\n",
      "   macro avg       0.83      0.76      0.79      1201\n",
      "weighted avg       0.87      0.88      0.87      1201\n",
      "\n"
     ]
    }
   ],
   "source": [
    "from sklearn.linear_model import LogisticRegression\n",
    "\n",
    "reg = LogisticRegression()\n",
    "\n",
    "# Split train and test data\n",
    "X_train,X_test,y_train,y_test = train_test_split(preject_features,labels,random_state=10)\n",
    "\n",
    "\n",
    "# Fit the model\n",
    "reg.fit(X_train,y_train)\n",
    "reg_y_predict = reg.predict(X_test)\n",
    "\n",
    "# Evaluate the performance\n",
    "print(classification_report(y_test,reg_y_predict))"
   ]
  },
  {
   "cell_type": "markdown",
   "metadata": {},
   "source": [
    "## Using cross-validation to evaluate our models"
   ]
  },
  {
   "cell_type": "code",
   "execution_count": 24,
   "metadata": {},
   "outputs": [
    {
     "name": "stdout",
     "output_type": "stream",
     "text": [
      "tree:0.8479849549080818  reg_score:0.8713096167186958\n"
     ]
    }
   ],
   "source": [
    "from sklearn.model_selection import cross_val_score\n",
    "\n",
    "tree_score = np.mean(cross_val_score(tree,preject_features,labels,cv=5))\n",
    "reg_score = np.mean(cross_val_score(reg,preject_features,labels,cv=5))\n",
    "\n",
    "print('tree:'+str(tree_score)+'  '+'reg_score:'+str(reg_score))"
   ]
  }
 ],
 "metadata": {
  "kernelspec": {
   "display_name": "Python 3",
   "language": "python",
   "name": "python3"
  },
  "language_info": {
   "codemirror_mode": {
    "name": "ipython",
    "version": 3
   },
   "file_extension": ".py",
   "mimetype": "text/x-python",
   "name": "python",
   "nbconvert_exporter": "python",
   "pygments_lexer": "ipython3",
   "version": "3.7.1"
  }
 },
 "nbformat": 4,
 "nbformat_minor": 2
}
